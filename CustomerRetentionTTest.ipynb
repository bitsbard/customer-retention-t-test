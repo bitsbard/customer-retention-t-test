{
  "nbformat": 4,
  "nbformat_minor": 0,
  "metadata": {
    "colab": {
      "provenance": []
    },
    "kernelspec": {
      "name": "python3",
      "display_name": "Python 3"
    },
    "language_info": {
      "name": "python"
    }
  },
  "cells": [
    {
      "cell_type": "code",
      "execution_count": null,
      "metadata": {
        "colab": {
          "base_uri": "https://localhost:8080/"
        },
        "id": "wQ8yIJLNN7Pw",
        "outputId": "41793d3e-acac-4505-8e64-1841e8792a62"
      },
      "outputs": [
        {
          "output_type": "stream",
          "name": "stdout",
          "text": [
            "At Risk Recency Sample:\n",
            " 6     204\n",
            "14    287\n",
            "43    303\n",
            "44    323\n",
            "77    367\n",
            "Name: Recency, dtype: int64\n",
            "Others Recency Sample:\n",
            " 0    326\n",
            "2     75\n",
            "3     19\n",
            "4    310\n",
            "5     36\n",
            "Name: Recency, dtype: int64\n"
          ]
        }
      ],
      "source": [
        "import pandas as pd\n",
        "\n",
        "# Load the dataset\n",
        "data = pd.read_csv('rfm_segmented.csv')\n",
        "\n",
        "# Extract recency data for \"At Risk\" and \"Others\" segments\n",
        "at_risk_recency = data[data['Segment'] == 'At Risk']['Recency']\n",
        "others_recency = data[data['Segment'] == 'Others']['Recency']\n",
        "\n",
        "# Display the first few rows of each segment's recency data to verify\n",
        "print(\"At Risk Recency Sample:\\n\", at_risk_recency.head())\n",
        "print(\"Others Recency Sample:\\n\", others_recency.head())"
      ]
    },
    {
      "cell_type": "code",
      "source": [
        "import pandas as pd\n",
        "import numpy as np\n",
        "import seaborn as sns\n",
        "import matplotlib.pyplot as plt\n",
        "\n",
        "# Assuming at_risk_recency and others_recency are already defined from Step 1\n",
        "# Verify data\n",
        "print(\"At Risk Recency Sample:\", at_risk_recency.head())\n",
        "print(\"Others Recency Sample:\", others_recency.head())\n",
        "\n",
        "# Calculate summary statistics\n",
        "at_risk_summary = at_risk_recency.describe()\n",
        "others_summary = others_recency.describe()\n",
        "\n",
        "print(\"At Risk Recency Summary:\\n\", at_risk_summary)\n",
        "print(\"Others Recency Summary:\\n\", others_summary)\n",
        "\n",
        "# Visualize distributions\n",
        "plt.figure(figsize=(12, 5))\n",
        "\n",
        "# Histogram\n",
        "plt.subplot(1, 2, 1)\n",
        "sns.histplot(at_risk_recency, color='red', label='At Risk', alpha=0.6, bins=10)\n",
        "sns.histplot(others_recency, color='blue', label='Others', alpha=0.6, bins=10)\n",
        "plt.legend()\n",
        "plt.title('Recency Distribution: At Risk vs. Others')\n",
        "plt.xlabel('Recency (Days)')\n",
        "plt.ylabel('Count')\n",
        "\n",
        "# Box plot with explicit data frame approach\n",
        "plt.subplot(1, 2, 2)\n",
        "data_for_box = pd.DataFrame({\n",
        "    'Recency': np.concatenate([at_risk_recency, others_recency]),\n",
        "    'Segment': ['At Risk'] * len(at_risk_recency) + ['Others'] * len(others_recency)\n",
        "})\n",
        "sns.boxplot(x='Segment', y='Recency', data=data_for_box, palette=['red', 'blue'])\n",
        "plt.title('Recency Box Plot: At Risk vs. Others')\n",
        "plt.ylabel('Recency (Days)')\n",
        "\n",
        "plt.tight_layout()\n",
        "plt.show()"
      ],
      "metadata": {
        "colab": {
          "base_uri": "https://localhost:8080/",
          "height": 1000
        },
        "id": "Kwthpd8XSwqY",
        "outputId": "19973913-5c7b-4d97-d51d-acfd46d75ca6"
      },
      "execution_count": null,
      "outputs": [
        {
          "output_type": "stream",
          "name": "stdout",
          "text": [
            "At Risk Recency Sample: 6     204\n",
            "14    287\n",
            "43    303\n",
            "44    323\n",
            "77    367\n",
            "Name: Recency, dtype: int64\n",
            "Others Recency Sample: 0    326\n",
            "2     75\n",
            "3     19\n",
            "4    310\n",
            "5     36\n",
            "Name: Recency, dtype: int64\n",
            "At Risk Recency Summary:\n",
            " count    320.000000\n",
            "mean     271.065625\n",
            "std       67.794767\n",
            "min      144.000000\n",
            "25%      217.750000\n",
            "50%      268.000000\n",
            "75%      326.250000\n",
            "max      374.000000\n",
            "Name: Recency, dtype: float64\n",
            "Others Recency Summary:\n",
            " count    3374.000000\n",
            "mean       92.103734\n",
            "std        90.737607\n",
            "min         1.000000\n",
            "25%        26.000000\n",
            "50%        58.000000\n",
            "75%       130.000000\n",
            "max       374.000000\n",
            "Name: Recency, dtype: float64\n"
          ]
        },
        {
          "output_type": "stream",
          "name": "stderr",
          "text": [
            "<ipython-input-11-3411679429>:36: FutureWarning: \n",
            "\n",
            "Passing `palette` without assigning `hue` is deprecated and will be removed in v0.14.0. Assign the `x` variable to `hue` and set `legend=False` for the same effect.\n",
            "\n",
            "  sns.boxplot(x='Segment', y='Recency', data=data_for_box, palette=['red', 'blue'])\n"
          ]
        },
        {
          "output_type": "display_data",
          "data": {
            "text/plain": [
              "<Figure size 1200x500 with 2 Axes>"
            ],
            "image/png": "[encoded data removed]"
          },
          "metadata": {}
        }
      ]
    },
    {
      "cell_type": "code",
      "source": [
        "from scipy.stats import shapiro, levene\n",
        "import numpy as np\n",
        "\n",
        "# Check normality using Shapiro-Wilk test\n",
        "at_risk_normality = shapiro(at_risk_recency)\n",
        "others_normality = shapiro(others_recency)\n",
        "\n",
        "print(\"Shapiro-Wilk Test for Normality:\")\n",
        "print(f\"At Risk - Statistic: {at_risk_normality.statistic:.4f}, P-value: {at_risk_normality.pvalue:.4f}\")\n",
        "print(f\"Others - Statistic: {others_normality.statistic:.4f}, P-value: {others_normality.pvalue:.4f}\")\n",
        "\n",
        "# Check homogeneity of variances using Levene's test\n",
        "variance_test = levene(at_risk_recency, others_recency)\n",
        "print(\"\\nLevene's Test for Equal Variances:\")\n",
        "print(f\"Statistic: {variance_test.statistic:.4f}, P-value: {variance_test.pvalue:.4f}\")"
      ],
      "metadata": {
        "colab": {
          "base_uri": "https://localhost:8080/"
        },
        "id": "4AxefkJeS9RP",
        "outputId": "9e15be1b-aee1-46f5-dd3a-9357e5c02f40"
      },
      "execution_count": null,
      "outputs": [
        {
          "output_type": "stream",
          "name": "stdout",
          "text": [
            "Shapiro-Wilk Test for Normality:\n",
            "At Risk - Statistic: 0.9509, P-value: 0.0000\n",
            "Others - Statistic: 0.8254, P-value: 0.0000\n",
            "\n",
            "Levene's Test for Equal Variances:\n",
            "Statistic: 3.5418, P-value: 0.0599\n"
          ]
        }
      ]
    },
    {
      "cell_type": "code",
      "source": [
        "from scipy.stats import ttest_ind\n",
        "\n",
        "# Perform two-sample t-test (one-tailed, assuming equal variances)\n",
        "t_stat, p_value = ttest_ind(at_risk_recency, others_recency, equal_var=True, alternative='greater')\n",
        "\n",
        "# Display results\n",
        "print(f\"T-statistic: {t_stat:.4f}\")\n",
        "print(f\"P-value: {p_value:.4f}\")\n",
        "\n",
        "# Interpret results\n",
        "alpha = 0.05\n",
        "if p_value < alpha:\n",
        "    print(\"Reject H₀: At Risk customers have a significantly higher mean recency than Others.\")\n",
        "else:\n",
        "    print(\"Fail to reject H₀: No significant difference in mean recency.\")"
      ],
      "metadata": {
        "colab": {
          "base_uri": "https://localhost:8080/"
        },
        "id": "AqtIisbzTkD6",
        "outputId": "1a7291f1-c147-4909-aa5a-c2385171fbcb"
      },
      "execution_count": null,
      "outputs": [
        {
          "output_type": "stream",
          "name": "stdout",
          "text": [
            "T-statistic: 34.3814\n",
            "P-value: 0.0000\n",
            "Reject H₀: At Risk customers have a significantly higher mean recency than Others.\n"
          ]
        }
      ]
    },
    {
      "cell_type": "code",
      "source": [
        "import numpy as np\n",
        "from scipy import stats\n",
        "\n",
        "# Calculate 95% confidence interval for the difference in means\n",
        "mean_diff = np.mean(at_risk_recency) - np.mean(others_recency)\n",
        "se_diff = np.sqrt(stats.t.ppf(0.975, len(at_risk_recency) + len(others_recency) - 2) *\n",
        "                  (np.var(at_risk_recency, ddof=1) / len(at_risk_recency) +\n",
        "                   np.var(others_recency, ddof=1) / len(others_recency)))\n",
        "conf_interval = (mean_diff - 1.96 * se_diff, mean_diff + 1.96 * se_diff)\n",
        "\n",
        "# Calculate Cohen's d for effect size\n",
        "pooled_std = np.sqrt((np.var(at_risk_recency, ddof=1) + np.var(others_recency, ddof=1)) / 2)\n",
        "cohens_d = mean_diff / pooled_std\n",
        "\n",
        "# Display results\n",
        "print(f\"Mean Difference in Recency: {mean_diff:.2f} days\")\n",
        "print(f\"95% Confidence Interval for Difference: ({conf_interval[0]:.2f}, {conf_interval[1]:.2f}) days\")\n",
        "print(f\"Cohen's d (Effect Size): {cohens_d:.2f}\")\n",
        "\n",
        "# Business interpretation\n",
        "print(\"\\nInterpretation:\")\n",
        "print(\"The t-test (p = 0.0000) confirms that 'At Risk' customers have a significantly higher mean recency (271.07 days) than 'Others' (92.10 days), a difference of approximately 178.97 days.\")\n",
        "print(\"The large effect size (Cohen's d > 0.8) indicates a substantial practical difference, suggesting 'At Risk' customers are far less recently active.\")\n",
        "print(\"Business Recommendation: Implement targeted re-engagement campaigns (e.g., personalized discounts or emails) for 'At Risk' customers to reduce churn.\")"
      ],
      "metadata": {
        "colab": {
          "base_uri": "https://localhost:8080/"
        },
        "id": "QLRLzAzxT5sC",
        "outputId": "65600c98-4da0-446d-d723-66c91fbb77d3"
      },
      "execution_count": null,
      "outputs": [
        {
          "output_type": "stream",
          "name": "stdout",
          "text": [
            "Mean Difference in Recency: 178.96 days\n",
            "95% Confidence Interval for Difference: (167.71, 190.21) days\n",
            "Cohen's d (Effect Size): 2.23\n",
            "\n",
            "Interpretation:\n",
            "The t-test (p = 0.0000) confirms that 'At Risk' customers have a significantly higher mean recency (271.07 days) than 'Others' (92.10 days), a difference of approximately 178.97 days.\n",
            "The large effect size (Cohen's d > 0.8) indicates a substantial practical difference, suggesting 'At Risk' customers are far less recently active.\n",
            "Business Recommendation: Implement targeted re-engagement campaigns (e.g., personalized discounts or emails) for 'At Risk' customers to reduce churn.\n"
          ]
        }
      ]
    },
    {
      "cell_type": "markdown",
      "source": [
        "Conclusion: Customer Retention T-Test Analysis\n",
        "Summary of Findings\n",
        "\n",
        "Hypothesis Test: A two-sample t-test was conducted to compare the mean recency (days since last purchase) between \"At Risk\" and \"Others\" customer segments.\n",
        "Results:\n",
        "Mean recency for \"At Risk\" customers: 271.07 days (n=320, std=67.79).\n",
        "Mean recency for \"Others\" customers: 92.10 days (n=3374, std=90.74).\n",
        "T-statistic: 34.3814, P-value: 0.0000 → Reject the null hypothesis (H₀) at α = 0.05.\n",
        "Mean difference: 178.96 days.\n",
        "95% Confidence Interval for the difference: (167.71, 190.21) days.\n",
        "Cohen’s d (effect size): 2.23, indicating a large practical difference.\n",
        "\n",
        "\n",
        "Interpretation: The statistical evidence confirms that \"At Risk\" customers have a significantly higher mean recency than \"Others,\" with a substantial gap of nearly 179 days. The large effect size underscores that this difference is not only statistically significant but also practically meaningful, reflecting a clear inactivity trend among \"At Risk\" customers.\n",
        "\n",
        "Business Recommendations\n",
        "\n",
        "Targeted Re-engagement: Launch personalized re-engagement campaigns for \"At Risk\" customers, such as:\n",
        "Discount codes or loyalty rewards via email or SMS.\n",
        "Reactivation reminders highlighting past purchases.\n",
        "\n",
        "\n",
        "Monitoring Progress: Track the impact of these campaigns by measuring changes in recency over the next 1-2 months, using a follow-up t-test to assess effectiveness.\n",
        "Segment-Specific Strategy: Continue monitoring \"Others\" to prevent them from transitioning to \"At Risk,\" potentially with lighter touchpoints like occasional promotions."
      ],
      "metadata": {
        "id": "ho7QfWm0UFML"
      }
    }
  ]
}